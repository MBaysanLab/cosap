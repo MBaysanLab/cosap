{
 "cells": [
  {
   "cell_type": "code",
   "execution_count": 1,
   "id": "89286cdd",
   "metadata": {},
   "outputs": [
    {
     "data": {
      "text/plain": [
       "'0.0.1'"
      ]
     },
     "execution_count": 1,
     "metadata": {},
     "output_type": "execute_result"
    }
   ],
   "source": [
    "import json\n",
    "from cosap import Pipeline, FastqReader, Mapper, VariantCaller, version, PipelineRunner\n",
    "from cosap import VarScanVariantCaller\n",
    "version"
   ]
  },
  {
   "cell_type": "code",
   "execution_count": 2,
   "id": "747686f2",
   "metadata": {},
   "outputs": [],
   "source": [
    "germline_files = [\n",
    "    FastqReader(\"/media/mae/SeagateExpansionDrive/arif/case_1_germline_wes/SRR3182423_1.fastq.gz\", platform=\"illumina\", read=1),\n",
    "    FastqReader(\"/media/mae/SeagateExpansionDrive/arif/case_1_germline_wes/SRR3182423_1.fastq.gz\", platform=\"illumina\", read=2)\n",
    "]\n",
    "\n",
    "tumor_files = [\n",
    "    FastqReader(\"/media/mae/SeagateExpansionDrive/arif/case_1_biorep_a_wes/SRR3182433_1.fastq.gz\", platform=\"illumina\", read=1),\n",
    "    FastqReader(\"/media/mae/SeagateExpansionDrive/arif/case_1_biorep_a_wes/SRR3182433_2.fastq.gz\", platform=\"illumina\", read=2)\n",
    "]"
   ]
  },
  {
   "cell_type": "code",
   "execution_count": 11,
   "id": "133d92fb",
   "metadata": {},
   "outputs": [],
   "source": [
    "mapper_germline = Mapper(library=\"bwa\", reads=germline_files, params={\n",
    "    \"read_groups\": {\n",
    "        \"ID\": \"Pt28N\",\n",
    "        \"SM\": \"Pt28N\",\n",
    "        \"PU\": \"0\",\n",
    "        \"PL\": \"illumina\",\n",
    "        \"LB\": \"Pt28N\"\n",
    "    }\n",
    "})\n",
    "mapper_tumor = Mapper(library=\"bowtie\", reads=tumor_files, params={\n",
    "    \"read_groups\": {\n",
    "        \"ID\": \"S13\",\n",
    "        \"SM\": \"S13\",\n",
    "        \"PU\": \"0\",\n",
    "        \"PL\": \"illumina\",\n",
    "        \"LB\": \"S13\"\n",
    "    }\n",
    "})"
   ]
  },
  {
   "cell_type": "code",
   "execution_count": 12,
   "id": "09b03958",
   "metadata": {},
   "outputs": [],
   "source": [
    "caller1 = VariantCaller(library=\"mutect\", germline=mapper_germline, tumor=mapper_tumor, params={})\n",
    "caller2 = VariantCaller(library=\"varscan\", germline=mapper_germline, tumor=mapper_tumor, params={})"
   ]
  },
  {
   "cell_type": "code",
   "execution_count": 13,
   "id": "7484f8ac",
   "metadata": {},
   "outputs": [],
   "source": [
    "pipeline = (\n",
    "    Pipeline()\n",
    "    .add(mapper_germline)\n",
    "    .add(mapper_tumor)\n",
    "    .add(caller1)\n",
    "    .add(caller2)\n",
    ")"
   ]
  },
  {
   "cell_type": "code",
   "execution_count": 15,
   "id": "efb83e40",
   "metadata": {},
   "outputs": [],
   "source": [
    "pipeline_config = pipeline.build()"
   ]
  },
  {
   "cell_type": "code",
   "execution_count": 19,
   "id": "8493a45a",
   "metadata": {},
   "outputs": [],
   "source": [
    "runner = PipelineRunner()"
   ]
  },
  {
   "cell_type": "code",
   "execution_count": 22,
   "id": "8826a288",
   "metadata": {},
   "outputs": [],
   "source": [
    "runner.run_pipeline_snakemake(pipeline_config=pipeline_config, output_dir = \"/media/mae/SeagateExpansionDrive/arif/pipeline_reproduce/\")"
   ]
  }
 ],
 "metadata": {
  "kernelspec": {
   "display_name": "Python 3",
   "language": "python",
   "name": "python3"
  },
  "language_info": {
   "codemirror_mode": {
    "name": "ipython",
    "version": 3
   },
   "file_extension": ".py",
   "mimetype": "text/x-python",
   "name": "python",
   "nbconvert_exporter": "python",
   "pygments_lexer": "ipython3",
   "version": "3.9.2"
  }
 },
 "nbformat": 4,
 "nbformat_minor": 5
}
