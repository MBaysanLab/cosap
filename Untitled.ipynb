{
 "cells": [
  {
   "cell_type": "code",
   "execution_count": 1,
   "id": "89286cdd",
   "metadata": {},
   "outputs": [
    {
     "data": {
      "text/plain": [
       "'0.0.1'"
      ]
     },
     "execution_count": 1,
     "metadata": {},
     "output_type": "execute_result"
    }
   ],
   "source": [
    "import json\n",
    "from cosap import Pipeline, FastqReader, Mapper, VariantCaller, version, PipelineRunner\n",
    "from cosap import VarScanVariantCaller\n",
    "version"
   ]
  },
  {
   "cell_type": "code",
   "execution_count": 2,
   "id": "747686f2",
   "metadata": {},
   "outputs": [],
   "source": [
    "germline_files = [\n",
    "    FastqReader(\"/media/mae/SeagateExpansionDrive/arif/case_1_germline_wes/SRR3182423_1.fastq.gz\", platform=\"illumina\", read=1),\n",
    "    FastqReader(\"/media/mae/SeagateExpansionDrive/arif/case_1_germline_wes/SRR3182423_1.fastq.gz\", platform=\"illumina\", read=2)\n",
    "]\n",
    "\n",
    "tumor_files = [\n",
    "    FastqReader(\"/media/mae/SeagateExpansionDrive/arif/case_1_biorep_a_wes/SRR3182433_1.fastq.gz\", platform=\"illumina\", read=1),\n",
    "    FastqReader(\"/media/mae/SeagateExpansionDrive/arif/case_1_biorep_a_wes/SRR3182433_2.fastq.gz\", platform=\"illumina\", read=2)\n",
    "]"
   ]
  },
  {
   "cell_type": "code",
   "execution_count": 3,
   "id": "133d92fb",
   "metadata": {},
   "outputs": [],
   "source": [
    "mapper_germline = Mapper(library=\"bwa\", reads=germline_files, params={\n",
    "    \"read_groups\": {\n",
    "        \"ID\": \"Pt28N\",\n",
    "        \"SM\": \"Pt28N\",\n",
    "        \"PU\": \"0\",\n",
    "        \"PL\": \"illumina\",\n",
    "        \"LB\": \"Pt28N\"\n",
    "    }\n",
    "})\n",
    "mapper_tumor = Mapper(library=\"bowtie\", reads=tumor_files, params={\n",
    "    \"read_groups\": {\n",
    "        \"ID\": \"S13\",\n",
    "        \"SM\": \"S13\",\n",
    "        \"PU\": \"0\",\n",
    "        \"PL\": \"illumina\",\n",
    "        \"LB\": \"S13\"\n",
    "    }\n",
    "})"
   ]
  },
  {
   "cell_type": "code",
   "execution_count": 4,
   "id": "09b03958",
   "metadata": {},
   "outputs": [],
   "source": [
    "caller1 = VariantCaller(library=\"mutect\", germline=mapper_germline, tumor=mapper_tumor, params={})\n",
    "caller2 = VariantCaller(library=\"varscan\", germline=mapper_germline, tumor=mapper_tumor, params={})"
   ]
  },
  {
   "cell_type": "code",
   "execution_count": 5,
   "id": "7484f8ac",
   "metadata": {},
   "outputs": [],
   "source": [
    "pipeline = (\n",
    "    Pipeline()\n",
    "    .add(mapper_germline)\n",
    "    .add(mapper_tumor)\n",
    "    .add(caller1)\n",
    "    .add(caller2)\n",
    ")"
   ]
  },
  {
   "cell_type": "code",
   "execution_count": 6,
   "id": "efb83e40",
   "metadata": {},
   "outputs": [],
   "source": [
    "pipeline_config = pipeline.build()"
   ]
  },
  {
   "cell_type": "code",
   "execution_count": 7,
   "id": "e00ea8cd",
   "metadata": {},
   "outputs": [
    {
     "data": {
      "text/plain": [
       "{'library_path': '/home/mae/Desktop/hg38_bundle',\n",
       " 'creation-date': '2021-09-09 18:04:57',\n",
       " 'version': '0.0.1',\n",
       " 'mapping': {'D791': {'library': 'bwa',\n",
       "   'input': {'1': '/media/mae/SeagateExpansionDrive/arif/case_1_germline_wes/SRR3182423_1.fastq.gz',\n",
       "    '2': '/media/mae/SeagateExpansionDrive/arif/case_1_germline_wes/SRR3182423_1.fastq.gz'},\n",
       "   'output': 'D791_bwa.bam',\n",
       "   'params': {'read_groups': {'ID': 'Pt28N',\n",
       "     'SM': 'Pt28N',\n",
       "     'PU': '0',\n",
       "     'PL': 'illumina',\n",
       "     'LB': 'Pt28N'}}},\n",
       "  '1DC8': {'library': 'bowtie',\n",
       "   'input': {'1': '/media/mae/SeagateExpansionDrive/arif/case_1_biorep_a_wes/SRR3182433_1.fastq.gz',\n",
       "    '2': '/media/mae/SeagateExpansionDrive/arif/case_1_biorep_a_wes/SRR3182433_2.fastq.gz'},\n",
       "   'output': '1DC8_bowtie.bam',\n",
       "   'params': {'read_groups': {'ID': 'S13',\n",
       "     'SM': 'S13',\n",
       "     'PU': '0',\n",
       "     'PL': 'illumina',\n",
       "     'LB': 'S13'}}}},\n",
       " 'sorting': {},\n",
       " 'index': {},\n",
       " 'merge': {},\n",
       " 'calibrate': {},\n",
       " 'variant-calling': {'1DC8_D791_mutect': {'library': 'mutect',\n",
       "   'normal': 'D791',\n",
       "   'tumor': '1DC8',\n",
       "   'params': {},\n",
       "   'output': 'snp_1DC8_D791_mutect.vcf'},\n",
       "  '1DC8_D791_varscan': {'library': 'varscan',\n",
       "   'normal': 'D791',\n",
       "   'tumor': '1DC8',\n",
       "   'params': {},\n",
       "   'output': 'snp_1DC8_D791_varscan.vcf'}}}"
      ]
     },
     "execution_count": 7,
     "metadata": {},
     "output_type": "execute_result"
    }
   ],
   "source": [
    "pipeline_config"
   ]
  },
  {
   "cell_type": "code",
   "execution_count": 19,
   "id": "8493a45a",
   "metadata": {},
   "outputs": [],
   "source": [
    "runner = PipelineRunner()"
   ]
  },
  {
   "cell_type": "code",
   "execution_count": 22,
   "id": "8826a288",
   "metadata": {},
   "outputs": [],
   "source": [
    "runner.run_pipeline_snakemake(pipeline_config=pipeline_config,\n",
    "                              output_dir = \"/media/mae/SeagateExpansionDrive/arif/pipeline_reproduce/\")"
   ]
  }
 ],
 "metadata": {
  "kernelspec": {
   "display_name": "Python 3 (ipykernel)",
   "language": "python",
   "name": "python3"
  },
  "language_info": {
   "codemirror_mode": {
    "name": "ipython",
    "version": 3
   },
   "file_extension": ".py",
   "mimetype": "text/x-python",
   "name": "python",
   "nbconvert_exporter": "python",
   "pygments_lexer": "ipython3",
   "version": "3.9.2"
  }
 },
 "nbformat": 4,
 "nbformat_minor": 5
}
