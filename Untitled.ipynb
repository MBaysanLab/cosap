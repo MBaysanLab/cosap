{
 "cells": [
  {
   "cell_type": "code",
   "execution_count": 1,
   "id": "89286cdd",
   "metadata": {},
   "outputs": [
    {
     "data": {
      "text/plain": [
       "'0.0.1'"
      ]
     },
     "execution_count": 1,
     "metadata": {},
     "output_type": "execute_result"
    }
   ],
   "source": [
    "import json\n",
    "from cosap import Pipeline, FastqReader, Mapper, VariantCaller, version, PipelineRunner, MDUP,Recalibrator\n",
    "from cosap import VarScanVariantCaller\n",
    "import yaml\n",
    "version"
   ]
  },
  {
   "cell_type": "code",
   "execution_count": 2,
   "id": "747686f2",
   "metadata": {},
   "outputs": [],
   "source": [
    "germline_files = [\n",
    "    FastqReader(\"/media/mae/SeagateExpansionDrive/arif/case_1_germline_wes/SRR3182423_1.fastq.gz\", platform=\"illumina\", read=1),\n",
    "    FastqReader(\"/media/mae/SeagateExpansionDrive/arif/case_1_germline_wes/SRR3182423_1.fastq.gz\", platform=\"illumina\", read=2)\n",
    "]\n",
    "\n",
    "tumor_files = [\n",
    "    FastqReader(\"/media/mae/SeagateExpansionDrive/arif/case_1_biorep_a_wes/SRR3182433_1.fastq.gz\", platform=\"illumina\", read=1),\n",
    "    FastqReader(\"/media/mae/SeagateExpansionDrive/arif/case_1_biorep_a_wes/SRR3182433_2.fastq.gz\", platform=\"illumina\", read=2)\n",
    "]"
   ]
  },
  {
   "cell_type": "code",
   "execution_count": 3,
   "id": "133d92fb",
   "metadata": {},
   "outputs": [],
   "source": [
    "mapper_germline = Mapper(library=\"bwa\", reads=germline_files, params={\n",
    "    \"read_groups\": {\n",
    "        \"ID\": \"Pt28N\",\n",
    "        \"SM\": \"Pt28N\",\n",
    "        \"PU\": \"0\",\n",
    "        \"PL\": \"illumina\",\n",
    "        \"LB\": \"Pt28N\"\n",
    "    }\n",
    "})\n",
    "mapper_tumor = Mapper(library=\"bwa\", reads=tumor_files, params={\n",
    "    \"read_groups\": {\n",
    "        \"ID\": \"S13\",\n",
    "        \"SM\": \"S13\",\n",
    "        \"PU\": \"0\",\n",
    "        \"PL\": \"illumina\",\n",
    "        \"LB\": \"S13\"\n",
    "    }\n",
    "})"
   ]
  },
  {
   "cell_type": "code",
   "execution_count": 4,
   "id": "33785352",
   "metadata": {},
   "outputs": [],
   "source": [
    "mdup_germline = MDUP(input_step=mapper_germline)\n",
    "mdup_tumor = MDUP(input_step=mapper_tumor)"
   ]
  },
  {
   "cell_type": "code",
   "execution_count": 5,
   "id": "347380d9",
   "metadata": {},
   "outputs": [],
   "source": [
    "base_racalibrator_germline = Recalibrator(input_step=mdup_germline)\n",
    "base_racalibrator_tumor = Recalibrator(input_step=mdup_tumor)"
   ]
  },
  {
   "cell_type": "code",
   "execution_count": 6,
   "id": "09b03958",
   "metadata": {},
   "outputs": [],
   "source": [
    "caller1 = VariantCaller(library=\"mutect\", germline=base_racalibrator_germline, tumor=base_racalibrator_tumor, params={})\n",
    "caller2 = VariantCaller(library=\"varscan\", germline=base_racalibrator_germline, tumor=base_racalibrator_tumor, params={})"
   ]
  },
  {
   "cell_type": "code",
   "execution_count": 7,
   "id": "7484f8ac",
   "metadata": {},
   "outputs": [],
   "source": [
    "pipeline = (\n",
    "    Pipeline()\n",
    "    .add(mapper_germline)\n",
    "    .add(mapper_tumor)\n",
    "    .add(mdup_germline)\n",
    "    .add(mdup_tumor)\n",
    "    .add(base_racalibrator_germline)\n",
    "    .add(base_racalibrator_tumor)\n",
    "    .add(caller1)\n",
    "    .add(caller2)\n",
    ")"
   ]
  },
  {
   "cell_type": "code",
   "execution_count": 8,
   "id": "efb83e40",
   "metadata": {},
   "outputs": [],
   "source": [
    "pipeline_config = pipeline.build()"
   ]
  },
  {
   "cell_type": "code",
   "execution_count": 9,
   "id": "e00ea8cd",
   "metadata": {
    "scrolled": true
   },
   "outputs": [],
   "source": [
    "pipeline_config[\"workdir\"] = \"/media/mae/SeagateExpansionDrive/arif/pipeline_reproduce/\""
   ]
  },
  {
   "cell_type": "code",
   "execution_count": 10,
   "id": "5805a133",
   "metadata": {},
   "outputs": [
    {
     "data": {
      "text/plain": [
       "{'library_path': '/home/mae/Desktop/hg38_bundle',\n",
       " 'creation-date': '2021-09-11 16:47:16',\n",
       " 'version': '0.0.1',\n",
       " 'mapping': {'9870': {'library': 'bwa',\n",
       "   'input': {'1': '/media/mae/SeagateExpansionDrive/arif/case_1_germline_wes/SRR3182423_1.fastq.gz',\n",
       "    '2': '/media/mae/SeagateExpansionDrive/arif/case_1_germline_wes/SRR3182423_1.fastq.gz'},\n",
       "   'output': 'unprocessed_9870.bam',\n",
       "   'params': {'read_groups': {'ID': 'Pt28N',\n",
       "     'SM': 'Pt28N',\n",
       "     'PU': '0',\n",
       "     'PL': 'illumina',\n",
       "     'LB': 'Pt28N'}}},\n",
       "  '00B3': {'library': 'bwa',\n",
       "   'input': {'1': '/media/mae/SeagateExpansionDrive/arif/case_1_biorep_a_wes/SRR3182433_1.fastq.gz',\n",
       "    '2': '/media/mae/SeagateExpansionDrive/arif/case_1_biorep_a_wes/SRR3182433_2.fastq.gz'},\n",
       "   'output': 'unprocessed_00B3.bam',\n",
       "   'params': {'read_groups': {'ID': 'S13',\n",
       "     'SM': 'S13',\n",
       "     'PU': '0',\n",
       "     'PL': 'illumina',\n",
       "     'LB': 'S13'}}}},\n",
       " 'sorting': {},\n",
       " 'index': {},\n",
       " 'merge': {},\n",
       " 'mdup': {'9870': {'input': 'unprocessed_9870.bam', 'output': 'mdup_9870.bam'},\n",
       "  '00B3': {'input': 'unprocessed_00B3.bam', 'output': 'mdup_00B3.bam'}},\n",
       " 'calibrate': {'9870': {'input': 'mdup_9870.bam',\n",
       "   'table': 'calibration_table_9870.table',\n",
       "   'output': 'calibrated_9870.bam'},\n",
       "  '00B3': {'input': 'mdup_00B3.bam',\n",
       "   'table': 'calibration_table_00B3.table',\n",
       "   'output': 'calibrated_00B3.bam'}},\n",
       " 'variant-calling': {'9870_00B3_mutect': {'library': 'mutect',\n",
       "   'normal_input': 'calibrated_9870.bam',\n",
       "   'tumor_input': 'calibrated_00B3.bam',\n",
       "   'params': {'germline_sample_naeme': 'normal_sample',\n",
       "    'tumor_sample_name': 'tumor_sample'},\n",
       "   'unfiltered_variants': 'all_9870_00B3.vcf',\n",
       "   'snp_output': 'snp_9870_00B3.vcf',\n",
       "   'indel_output': 'indel_9870_00B3.vcf',\n",
       "   'other_variants_output': 'other_variants_9870_00B3.vcf'},\n",
       "  '9870_00B3_varscan': {'library': 'varscan',\n",
       "   'normal_input': 'calibrated_9870.bam',\n",
       "   'tumor_input': 'calibrated_00B3.bam',\n",
       "   'params': {'germline_sample_naeme': 'normal_sample',\n",
       "    'tumor_sample_name': 'tumor_sample'},\n",
       "   'unfiltered_variants': 'all_9870_00B3.vcf',\n",
       "   'snp_output': 'snp_9870_00B3.vcf',\n",
       "   'indel_output': 'indel_9870_00B3.vcf',\n",
       "   'other_variants_output': 'other_variants_9870_00B3.vcf'}},\n",
       " 'final-output': ['unprocessed_9870.bam',\n",
       "  'unprocessed_00B3.bam',\n",
       "  'mdup_9870.bam',\n",
       "  'mdup_00B3.bam',\n",
       "  'calibrated_9870.bam',\n",
       "  'calibrated_00B3.bam',\n",
       "  'snp_9870_00B3.vcf',\n",
       "  'snp_9870_00B3.vcf'],\n",
       " 'workdir': '/media/mae/SeagateExpansionDrive/arif/pipeline_reproduce/'}"
      ]
     },
     "execution_count": 10,
     "metadata": {},
     "output_type": "execute_result"
    }
   ],
   "source": [
    "pipeline_config"
   ]
  },
  {
   "cell_type": "code",
   "execution_count": 11,
   "id": "aa2c58e9",
   "metadata": {},
   "outputs": [],
   "source": [
    "with open(\"/home/mae/Desktop/cosap/snakemake_workflows/config.yaml\", \"w\") as config_yaml:\n",
    "            yaml.dump(pipeline_config, config_yaml, default_flow_style=False)"
   ]
  },
  {
   "cell_type": "code",
   "execution_count": null,
   "id": "8493a45a",
   "metadata": {},
   "outputs": [],
   "source": [
    "runner = PipelineRunner()"
   ]
  },
  {
   "cell_type": "code",
   "execution_count": null,
   "id": "8826a288",
   "metadata": {},
   "outputs": [],
   "source": [
    "runner.run_pipeline_snakemake(pipeline_config=pipeline_config,\n",
    "                              output_dir = \"/media/mae/SeagateExpansionDrive/arif/pipeline_reproduce/\")"
   ]
  }
 ],
 "metadata": {
  "kernelspec": {
   "display_name": "Python 3 (ipykernel)",
   "language": "python",
   "name": "python3"
  },
  "language_info": {
   "codemirror_mode": {
    "name": "ipython",
    "version": 3
   },
   "file_extension": ".py",
   "mimetype": "text/x-python",
   "name": "python",
   "nbconvert_exporter": "python",
   "pygments_lexer": "ipython3",
   "version": "3.9.2"
  }
 },
 "nbformat": 4,
 "nbformat_minor": 5
}
